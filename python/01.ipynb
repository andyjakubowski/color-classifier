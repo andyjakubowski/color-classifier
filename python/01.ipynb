{
 "cells": [
  {
   "cell_type": "code",
   "execution_count": 215,
   "metadata": {},
   "outputs": [],
   "source": [
    "import tensorflow as tf\n",
    "import tensorflowjs as tfjs\n",
    "from tensorflow import keras\n",
    "import numpy as np\n",
    "import json\n",
    "import matplotlib.pyplot as plt"
   ]
  },
  {
   "cell_type": "code",
   "execution_count": 225,
   "metadata": {},
   "outputs": [],
   "source": [
    "def get_color_labels_dict():\n",
    "    return {\n",
    "        \"red-ish\": 0,\n",
    "        \"green-ish\": 1,\n",
    "        \"blue-ish\": 2,\n",
    "        \"orange-ish\": 3,\n",
    "        \"yellow-ish\": 4,\n",
    "        \"pink-ish\": 5,\n",
    "        \"purple-ish\": 6,\n",
    "        \"brown-ish\": 7,\n",
    "        \"gray-ish\": 8,\n",
    "    }\n",
    "\n",
    "def get_target_name(index):\n",
    "    labels_dict = get_color_labels_dict()\n",
    "    \n",
    "    for key, value in labels_dict.items():\n",
    "        if value == index:\n",
    "            return key\n",
    "\n",
    "def encode_color_labels_as_int(labels):\n",
    "    labels_dict = get_color_labels_dict()\n",
    "    \n",
    "    return list(map(lambda label: labels_dict[label], labels))\n",
    "\n",
    "def get_rgb_values(color):\n",
    "    rgb_array = [color['red'], color['green'], color['blue']]\n",
    "    return rgb_array\n",
    "\n",
    "def get_color_label(color):\n",
    "    return color[\"label\"]\n",
    "\n",
    "def load_json():\n",
    "    path = \"./data/labeled-colors-285.json\"\n",
    "\n",
    "    with open(path) as json_file:\n",
    "        json_str = json_file.read()\n",
    "\n",
    "    return json.loads(json_str)\n",
    "\n",
    "def prep_data(data):\n",
    "    rgb_list = list(map(get_rgb_values, data))\n",
    "    labels_as_string = list(map(get_color_label, data))\n",
    "    labels_as_int = encode_color_labels_as_int(labels_as_string)\n",
    "    \n",
    "    rgb_ndarray = np.array(rgb_list)\n",
    "    labels_ndarray = np.array(labels_as_int)\n",
    "    \n",
    "    return (rgb_ndarray, labels_ndarray)\n",
    "\n",
    "def load_data():\n",
    "    colors_array = load_json()\n",
    "    prepped_data = prep_data(colors_array)\n",
    "    return prepped_data\n",
    "\n",
    "# Plot a grid of individual colors from the dataset\n",
    "# The colors won’t be labeled\n",
    "# I tried using annotate to label the colors, but positioning the labels was tedious\n",
    "def plot_colors(one_hundred_colors):\n",
    "    plt.figure(figsize=(12, 12), facecolor=\"black\", tight_layout=True)\n",
    "    # We reshape the colors into a square, so we need to know the size of the passed argument ahead of time...\n",
    "    # That’s why it’s called one_hundred_colors\n",
    "    plt.imshow(one_hundred_colors.reshape(10, 10, 3))\n",
    "    plt.axis(\"off\")\n",
    "    plt.annotate('Test', xy=(0.9, 0.0), xycoords=\"axes fraction\")\n",
    "    \n",
    "# Plot a bunch of colors from the dataset, and their labels\n",
    "def plot_train_data(X, y, start=0):\n",
    "    n_rows = 4\n",
    "    n_cols = 8\n",
    "    plt.figure(figsize=(n_cols * 2, n_rows * 2))\n",
    "    for row in range(n_rows):\n",
    "        for col in range(n_cols):\n",
    "            index = n_cols * row + col\n",
    "            plt.subplot(n_rows, n_cols, index + 1)\n",
    "            \n",
    "            data_index = start + index\n",
    "            \n",
    "            color = X[data_index, :]\n",
    "            color = color[np.newaxis, :]\n",
    "            color = color.reshape(1, 1, 3)\n",
    "            \n",
    "            target_name = get_target_name(y[data_index])\n",
    "            \n",
    "            plt.imshow(color)\n",
    "            plt.axis('off')\n",
    "            plt.title(target_name, fontsize=12)\n",
    "    plt.subplots_adjust(wspace=0.2, hspace=0.5)\n",
    "    plt.show()"
   ]
  },
  {
   "cell_type": "code",
   "execution_count": 217,
   "metadata": {},
   "outputs": [],
   "source": [
    "X_train, y_train = load_data()"
   ]
  },
  {
   "cell_type": "code",
   "execution_count": 226,
   "metadata": {},
   "outputs": [
    {
     "data": {
      "image/png": "[encoded data removed]",
      "text/plain": [
       "<Figure size 1152x576 with 32 Axes>"
      ]
     },
     "metadata": {
      "needs_background": "light"
     },
     "output_type": "display_data"
    }
   ],
   "source": [
    "plot_train_data(X_train, y_train, start=150)"
   ]
  }
 ],
 "metadata": {
  "kernelspec": {
   "display_name": "color-classifier",
   "language": "python",
   "name": "color-classifier"
  },
  "language_info": {
   "codemirror_mode": {
    "name": "ipython",
    "version": 3
   },
   "file_extension": ".py",
   "mimetype": "text/x-python",
   "name": "python",
   "nbconvert_exporter": "python",
   "pygments_lexer": "ipython3",
   "version": "3.8.6"
  }
 },
 "nbformat": 4,
 "nbformat_minor": 4
}
