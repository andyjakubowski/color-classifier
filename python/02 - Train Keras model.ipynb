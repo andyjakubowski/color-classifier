{
 "cells": [
  {
   "cell_type": "code",
   "execution_count": 133,
   "metadata": {},
   "outputs": [],
   "source": [
    "import tensorflow as tf\n",
    "import tensorflowjs as tfjs\n",
    "from tensorflow import keras\n",
    "import numpy as np\n",
    "import json\n",
    "import math\n",
    "import inspect\n",
    "import matplotlib.pyplot as plt\n",
    "import pandas as pd"
   ]
  },
  {
   "cell_type": "code",
   "execution_count": 124,
   "metadata": {},
   "outputs": [],
   "source": [
    "def get_color_labels_dict():\n",
    "    return {\n",
    "        \"red-ish\": 0,\n",
    "        \"green-ish\": 1,\n",
    "        \"blue-ish\": 2,\n",
    "        \"orange-ish\": 3,\n",
    "        \"yellow-ish\": 4,\n",
    "        \"pink-ish\": 5,\n",
    "        \"purple-ish\": 6,\n",
    "        \"brown-ish\": 7,\n",
    "        \"gray-ish\": 8,\n",
    "    }\n",
    "\n",
    "target_names = np.array(list(get_color_labels_dict().keys()))\n",
    "\n",
    "def get_target_name(index):\n",
    "    return target_names[index]\n",
    "\n",
    "def encode_color_labels_as_int(labels):\n",
    "    labels_dict = get_color_labels_dict()\n",
    "    \n",
    "    return list(map(lambda label: labels_dict[label], labels))\n",
    "\n",
    "def get_rgb_values(color):\n",
    "    rgb_array = [color['red'], color['green'], color['blue']]\n",
    "    return rgb_array\n",
    "\n",
    "def get_color_label(color):\n",
    "    return color[\"label\"]\n",
    "\n",
    "def load_json():\n",
    "    path = \"./data/labeled-colors-2020.json\"\n",
    "\n",
    "    with open(path) as json_file:\n",
    "        json_str = json_file.read()\n",
    "\n",
    "    return json.loads(json_str)\n",
    "\n",
    "def prep_data(data):\n",
    "    rgb_list = list(map(get_rgb_values, data))\n",
    "    labels_as_string = list(map(get_color_label, data))\n",
    "    labels_as_int = encode_color_labels_as_int(labels_as_string)\n",
    "    \n",
    "    rgb_ndarray = np.array(rgb_list)\n",
    "    labels_ndarray = np.array(labels_as_int)\n",
    "    \n",
    "    return (rgb_ndarray, labels_ndarray)\n",
    "\n",
    "def load_data():\n",
    "    colors_array = load_json()\n",
    "    prepped_data = prep_data(colors_array)\n",
    "    return prepped_data\n",
    "\n",
    "# Plot a grid of individual colors from the dataset\n",
    "# The colors won’t be labeled\n",
    "# I tried using annotate to label the colors, but positioning the labels was tedious\n",
    "def plot_colors(one_hundred_colors):\n",
    "    plt.figure(figsize=(12, 12), facecolor=\"black\", tight_layout=True)\n",
    "    # We reshape the colors into a square, so we need to know the size of the passed argument ahead of time...\n",
    "    # That’s why it’s called one_hundred_colors\n",
    "    plt.imshow(one_hundred_colors.reshape(10, 10, 3))\n",
    "    plt.axis(\"off\")\n",
    "    plt.annotate('Test', xy=(0.9, 0.0), xycoords=\"axes fraction\")\n",
    "    \n",
    "# Plot a bunch of colors from the dataset, and their labels\n",
    "def plot_train_data(X, y, start=0, count=24):\n",
    "    max_count = min(count, X.shape[0])\n",
    "    \n",
    "    n_cols = 8\n",
    "    n_rows = math.ceil(max_count / n_cols)\n",
    "    plt.figure(figsize=(n_cols * 2, n_rows * 2))\n",
    "    for row in range(n_rows):\n",
    "        for col in range(n_cols):\n",
    "            index = n_cols * row + col\n",
    "            \n",
    "            # Stop plotting if you reached the desired count\n",
    "            if (index == max_count):\n",
    "                return\n",
    "            \n",
    "            plt.subplot(n_rows, n_cols, index + 1)\n",
    "            \n",
    "#             breakpoint()\n",
    "            data_index = start + index\n",
    "            \n",
    "            color = X[data_index, :]\n",
    "            color = color[np.newaxis, :]\n",
    "            color = color.reshape(1, 1, 3)\n",
    "            \n",
    "            target_name = get_target_name(y[data_index])\n",
    "            \n",
    "            plt.imshow(color)\n",
    "            plt.axis('off')\n",
    "            plt.title(target_name, fontsize=12)\n",
    "    plt.subplots_adjust(wspace=0.2, hspace=0.5)\n",
    "    plt.show()\n",
    "    \n",
    "def shuffle(array):\n",
    "    rng = np.random.default_rng()\n",
    "    array_copy = array.copy()\n",
    "    return rng.shuffle(array_copy)\n",
    "\n",
    "def split_train_test_valid(data, test_size=0.3, valid_size=0.1):\n",
    "    total_count = data.shape[0]\n",
    "    \n",
    "    test_count = math.floor(total_count * test_size)\n",
    "    valid_count = math.floor(total_count * valid_size)\n",
    "    train_count = total_count - test_count - valid_count\n",
    "    \n",
    "    train = data[:train_count, :]\n",
    "    \n",
    "    valid_start_index = train_count\n",
    "    valid_end_index = valid_start_index + valid_count\n",
    "    valid = data[valid_start_index:valid_end_index, :]\n",
    "    \n",
    "    test_start_index = valid_end_index\n",
    "    test = data[test_start_index:, :]\n",
    "    \n",
    "    return (train, valid, test)"
   ]
  },
  {
   "cell_type": "code",
   "execution_count": 103,
   "metadata": {},
   "outputs": [
    {
     "data": {
      "image/png": "[encoded data removed]",
      "text/plain": [
       "<Figure size 1152x432 with 24 Axes>"
      ]
     },
     "metadata": {
      "needs_background": "light"
     },
     "output_type": "display_data"
    }
   ],
   "source": [
    "plot_train_data(X_valid, y_valid, start=0)"
   ]
  },
  {
   "cell_type": "code",
   "execution_count": 80,
   "metadata": {},
   "outputs": [
    {
     "name": "stdout",
     "output_type": "stream",
     "text": [
      "(1212, 3) (202, 3) (606, 3)\n",
      "(1212, 1) (202, 1) (606, 1)\n"
     ]
    }
   ],
   "source": [
    "X, y = load_data()\n",
    "X_train, X_valid, X_test = split_train_test_valid(X)\n",
    "y_train, y_valid, y_test = split_train_test_valid(y[:, np.newaxis])\n",
    "print(X_train.shape, X_valid.shape, X_test.shape)\n",
    "print(y_train.shape, y_valid.shape, y_test.shape)"
   ]
  },
  {
   "cell_type": "code",
   "execution_count": 81,
   "metadata": {},
   "outputs": [],
   "source": [
    "keras.backend.clear_session()\n",
    "np.random.seed(42)\n",
    "tf.random.set_seed(42)"
   ]
  },
  {
   "cell_type": "code",
   "execution_count": 85,
   "metadata": {},
   "outputs": [],
   "source": [
    "model = keras.models.Sequential([\n",
    "    keras.layers.Flatten(input_shape=[3]),\n",
    "    keras.layers.Dense(300, activation=\"relu\"),\n",
    "    keras.layers.Dense(100, activation=\"relu\"),\n",
    "    keras.layers.Dense(10, activation=\"softmax\")\n",
    "])"
   ]
  },
  {
   "cell_type": "code",
   "execution_count": 83,
   "metadata": {},
   "outputs": [
    {
     "data": {
      "text/plain": [
       "[<tensorflow.python.keras.layers.core.Flatten at 0x7fa45c7361f0>,\n",
       " <tensorflow.python.keras.layers.core.Dense at 0x7fa45c69e4c0>,\n",
       " <tensorflow.python.keras.layers.core.Dense at 0x7fa45c69e850>,\n",
       " <tensorflow.python.keras.layers.core.Dense at 0x7fa45c69ebb0>]"
      ]
     },
     "execution_count": 83,
     "metadata": {},
     "output_type": "execute_result"
    }
   ],
   "source": [
    "model.layers"
   ]
  },
  {
   "cell_type": "code",
   "execution_count": 86,
   "metadata": {},
   "outputs": [
    {
     "name": "stdout",
     "output_type": "stream",
     "text": [
      "Model: \"sequential_1\"\n",
      "_________________________________________________________________\n",
      "Layer (type)                 Output Shape              Param #   \n",
      "=================================================================\n",
      "flatten_1 (Flatten)          (None, 3)                 0         \n",
      "_________________________________________________________________\n",
      "dense_3 (Dense)              (None, 300)               1200      \n",
      "_________________________________________________________________\n",
      "dense_4 (Dense)              (None, 100)               30100     \n",
      "_________________________________________________________________\n",
      "dense_5 (Dense)              (None, 10)                1010      \n",
      "=================================================================\n",
      "Total params: 32,310\n",
      "Trainable params: 32,310\n",
      "Non-trainable params: 0\n",
      "_________________________________________________________________\n"
     ]
    }
   ],
   "source": [
    "model.summary()"
   ]
  },
  {
   "cell_type": "code",
   "execution_count": 87,
   "metadata": {},
   "outputs": [],
   "source": [
    "model.compile(loss=\"sparse_categorical_crossentropy\",\n",
    "              optimizer=\"sgd\",\n",
    "              metrics=[\"accuracy\"])"
   ]
  },
  {
   "cell_type": "code",
   "execution_count": 88,
   "metadata": {},
   "outputs": [
    {
     "name": "stdout",
     "output_type": "stream",
     "text": [
      "Epoch 1/30\n",
      "38/38 [==============================] - 0s 7ms/step - loss: 8.9596 - accuracy: 0.6015 - val_loss: 0.9245 - val_accuracy: 0.6535\n",
      "Epoch 2/30\n",
      "38/38 [==============================] - 0s 1ms/step - loss: 0.6932 - accuracy: 0.7434 - val_loss: 0.7573 - val_accuracy: 0.6980\n",
      "Epoch 3/30\n",
      "38/38 [==============================] - 0s 1ms/step - loss: 0.6504 - accuracy: 0.7434 - val_loss: 0.8868 - val_accuracy: 0.7030\n",
      "Epoch 4/30\n",
      "38/38 [==============================] - 0s 1ms/step - loss: 0.6288 - accuracy: 0.7533 - val_loss: 0.7315 - val_accuracy: 0.7376\n",
      "Epoch 5/30\n",
      "38/38 [==============================] - 0s 1ms/step - loss: 0.5874 - accuracy: 0.7781 - val_loss: 0.9962 - val_accuracy: 0.6733\n",
      "Epoch 6/30\n",
      "38/38 [==============================] - 0s 1ms/step - loss: 0.5510 - accuracy: 0.7847 - val_loss: 0.5735 - val_accuracy: 0.7525\n",
      "Epoch 7/30\n",
      "38/38 [==============================] - 0s 1ms/step - loss: 0.5395 - accuracy: 0.7822 - val_loss: 0.6476 - val_accuracy: 0.7624\n",
      "Epoch 8/30\n",
      "38/38 [==============================] - 0s 1ms/step - loss: 0.5247 - accuracy: 0.7797 - val_loss: 0.5161 - val_accuracy: 0.7871\n",
      "Epoch 9/30\n",
      "38/38 [==============================] - 0s 1ms/step - loss: 0.4968 - accuracy: 0.7962 - val_loss: 0.6715 - val_accuracy: 0.7673\n",
      "Epoch 10/30\n",
      "38/38 [==============================] - 0s 1ms/step - loss: 0.5169 - accuracy: 0.7880 - val_loss: 0.5883 - val_accuracy: 0.7574\n",
      "Epoch 11/30\n",
      "38/38 [==============================] - 0s 2ms/step - loss: 0.5458 - accuracy: 0.7781 - val_loss: 0.5239 - val_accuracy: 0.7871\n",
      "Epoch 12/30\n",
      "38/38 [==============================] - 0s 1ms/step - loss: 0.5031 - accuracy: 0.8012 - val_loss: 0.6412 - val_accuracy: 0.7327\n",
      "Epoch 13/30\n",
      "38/38 [==============================] - 0s 1ms/step - loss: 0.5060 - accuracy: 0.7954 - val_loss: 0.7312 - val_accuracy: 0.7079\n",
      "Epoch 14/30\n",
      "38/38 [==============================] - 0s 1ms/step - loss: 0.4692 - accuracy: 0.8069 - val_loss: 0.6722 - val_accuracy: 0.7624\n",
      "Epoch 15/30\n",
      "38/38 [==============================] - 0s 1ms/step - loss: 0.4961 - accuracy: 0.7789 - val_loss: 0.5597 - val_accuracy: 0.7624\n",
      "Epoch 16/30\n",
      "38/38 [==============================] - 0s 2ms/step - loss: 0.5147 - accuracy: 0.7904 - val_loss: 0.6316 - val_accuracy: 0.7129\n",
      "Epoch 17/30\n",
      "38/38 [==============================] - 0s 1ms/step - loss: 0.4767 - accuracy: 0.7979 - val_loss: 0.5992 - val_accuracy: 0.7574\n",
      "Epoch 18/30\n",
      "38/38 [==============================] - 0s 1ms/step - loss: 0.4824 - accuracy: 0.8012 - val_loss: 0.5361 - val_accuracy: 0.8020\n",
      "Epoch 19/30\n",
      "38/38 [==============================] - 0s 1ms/step - loss: 0.4969 - accuracy: 0.7929 - val_loss: 0.6419 - val_accuracy: 0.7525\n",
      "Epoch 20/30\n",
      "38/38 [==============================] - 0s 1ms/step - loss: 0.4739 - accuracy: 0.7979 - val_loss: 0.7067 - val_accuracy: 0.7178\n",
      "Epoch 21/30\n",
      "38/38 [==============================] - 0s 1ms/step - loss: 0.4713 - accuracy: 0.8053 - val_loss: 0.5721 - val_accuracy: 0.7475\n",
      "Epoch 22/30\n",
      "38/38 [==============================] - 0s 1ms/step - loss: 0.4797 - accuracy: 0.8028 - val_loss: 0.5715 - val_accuracy: 0.7673\n",
      "Epoch 23/30\n",
      "38/38 [==============================] - 0s 1ms/step - loss: 0.4885 - accuracy: 0.7995 - val_loss: 0.6284 - val_accuracy: 0.7723\n",
      "Epoch 24/30\n",
      "38/38 [==============================] - 0s 2ms/step - loss: 0.4518 - accuracy: 0.8078 - val_loss: 0.5931 - val_accuracy: 0.7574\n",
      "Epoch 25/30\n",
      "38/38 [==============================] - 0s 1ms/step - loss: 0.4766 - accuracy: 0.8045 - val_loss: 0.5560 - val_accuracy: 0.7723\n",
      "Epoch 26/30\n",
      "38/38 [==============================] - 0s 1ms/step - loss: 0.4808 - accuracy: 0.8069 - val_loss: 0.5819 - val_accuracy: 0.7277\n",
      "Epoch 27/30\n",
      "38/38 [==============================] - 0s 1ms/step - loss: 0.4455 - accuracy: 0.8160 - val_loss: 0.6452 - val_accuracy: 0.7624\n",
      "Epoch 28/30\n",
      "38/38 [==============================] - 0s 1ms/step - loss: 0.4484 - accuracy: 0.8152 - val_loss: 0.5302 - val_accuracy: 0.7723\n",
      "Epoch 29/30\n",
      "38/38 [==============================] - 0s 1ms/step - loss: 0.4493 - accuracy: 0.8020 - val_loss: 0.5338 - val_accuracy: 0.7772\n",
      "Epoch 30/30\n",
      "38/38 [==============================] - 0s 1ms/step - loss: 0.4454 - accuracy: 0.8177 - val_loss: 0.5612 - val_accuracy: 0.7624\n"
     ]
    }
   ],
   "source": [
    "history = model.fit(X_train, y_train, epochs=30,\n",
    "                    validation_data=(X_valid, y_valid))"
   ]
  },
  {
   "cell_type": "code",
   "execution_count": 89,
   "metadata": {},
   "outputs": [
    {
     "data": {
      "text/plain": [
       "{'verbose': 1, 'epochs': 30, 'steps': 38}"
      ]
     },
     "execution_count": 89,
     "metadata": {},
     "output_type": "execute_result"
    }
   ],
   "source": [
    "history.params"
   ]
  },
  {
   "cell_type": "code",
   "execution_count": 90,
   "metadata": {},
   "outputs": [
    {
     "data": {
      "text/plain": [
       "{'loss': [8.959564208984375,\n",
       "  0.6932081580162048,\n",
       "  0.6504430174827576,\n",
       "  0.6287513971328735,\n",
       "  0.5874444246292114,\n",
       "  0.551013708114624,\n",
       "  0.5395407676696777,\n",
       "  0.5247489213943481,\n",
       "  0.49675557017326355,\n",
       "  0.5168813467025757,\n",
       "  0.5458073616027832,\n",
       "  0.5030620694160461,\n",
       "  0.506037175655365,\n",
       "  0.46915897727012634,\n",
       "  0.4961199462413788,\n",
       "  0.5146642923355103,\n",
       "  0.4767037034034729,\n",
       "  0.48239487409591675,\n",
       "  0.49691277742385864,\n",
       "  0.4738897383213043,\n",
       "  0.4712751507759094,\n",
       "  0.4797474443912506,\n",
       "  0.4885067641735077,\n",
       "  0.4517860412597656,\n",
       "  0.47656160593032837,\n",
       "  0.48075515031814575,\n",
       "  0.4455416798591614,\n",
       "  0.44843053817749023,\n",
       "  0.44930797815322876,\n",
       "  0.4454037547111511],\n",
       " 'accuracy': [0.6014851331710815,\n",
       "  0.7433993220329285,\n",
       "  0.7433993220329285,\n",
       "  0.7533003091812134,\n",
       "  0.778052806854248,\n",
       "  0.7846534848213196,\n",
       "  0.7821782231330872,\n",
       "  0.7797029614448547,\n",
       "  0.7962046265602112,\n",
       "  0.787953794002533,\n",
       "  0.778052806854248,\n",
       "  0.8011550903320312,\n",
       "  0.7953795194625854,\n",
       "  0.8069307208061218,\n",
       "  0.7788779139518738,\n",
       "  0.7904290556907654,\n",
       "  0.7978547811508179,\n",
       "  0.8011550903320312,\n",
       "  0.7929043173789978,\n",
       "  0.7978547811508179,\n",
       "  0.8052805066108704,\n",
       "  0.8028053045272827,\n",
       "  0.7995049357414246,\n",
       "  0.8077557682991028,\n",
       "  0.8044554591178894,\n",
       "  0.8069307208061218,\n",
       "  0.816006600856781,\n",
       "  0.8151814937591553,\n",
       "  0.801980197429657,\n",
       "  0.8176567554473877],\n",
       " 'val_loss': [0.9244574308395386,\n",
       "  0.7572647929191589,\n",
       "  0.8867998719215393,\n",
       "  0.731507420539856,\n",
       "  0.9961740374565125,\n",
       "  0.5735423564910889,\n",
       "  0.6476247906684875,\n",
       "  0.516147255897522,\n",
       "  0.6714751720428467,\n",
       "  0.5883198976516724,\n",
       "  0.5238592028617859,\n",
       "  0.6412245631217957,\n",
       "  0.7312085628509521,\n",
       "  0.6721712350845337,\n",
       "  0.5597286224365234,\n",
       "  0.6315626502037048,\n",
       "  0.5992465019226074,\n",
       "  0.5360825061798096,\n",
       "  0.6418743133544922,\n",
       "  0.7067446708679199,\n",
       "  0.5721457600593567,\n",
       "  0.5715290904045105,\n",
       "  0.628412663936615,\n",
       "  0.5931260585784912,\n",
       "  0.5560315847396851,\n",
       "  0.581851065158844,\n",
       "  0.6451573967933655,\n",
       "  0.5302114486694336,\n",
       "  0.5338044762611389,\n",
       "  0.5611674785614014],\n",
       " 'val_accuracy': [0.6534653306007385,\n",
       "  0.698019802570343,\n",
       "  0.7029703259468079,\n",
       "  0.7376237511634827,\n",
       "  0.6732673048973083,\n",
       "  0.7524752616882324,\n",
       "  0.7623762488365173,\n",
       "  0.7871286869049072,\n",
       "  0.7673267126083374,\n",
       "  0.7574257254600525,\n",
       "  0.7871286869049072,\n",
       "  0.7326732873916626,\n",
       "  0.7079207897186279,\n",
       "  0.7623762488365173,\n",
       "  0.7623762488365173,\n",
       "  0.7128713130950928,\n",
       "  0.7574257254600525,\n",
       "  0.801980197429657,\n",
       "  0.7524752616882324,\n",
       "  0.7178217768669128,\n",
       "  0.7475247383117676,\n",
       "  0.7673267126083374,\n",
       "  0.7722772359848022,\n",
       "  0.7574257254600525,\n",
       "  0.7722772359848022,\n",
       "  0.7277227640151978,\n",
       "  0.7623762488365173,\n",
       "  0.7722772359848022,\n",
       "  0.7772276997566223,\n",
       "  0.7623762488365173]}"
      ]
     },
     "execution_count": 90,
     "metadata": {},
     "output_type": "execute_result"
    }
   ],
   "source": [
    "history.history"
   ]
  },
  {
   "cell_type": "code",
   "execution_count": 91,
   "metadata": {},
   "outputs": [
    {
     "name": "stdout",
     "output_type": "stream",
     "text": [
      "19/19 [==============================] - 0s 663us/step - loss: 0.5956 - accuracy: 0.7541\n"
     ]
    },
    {
     "data": {
      "text/plain": [
       "[0.5956176519393921, 0.7541254162788391]"
      ]
     },
     "execution_count": 91,
     "metadata": {},
     "output_type": "execute_result"
    }
   ],
   "source": [
    "model.evaluate(X_test, y_test)"
   ]
  },
  {
   "cell_type": "code",
   "execution_count": 93,
   "metadata": {},
   "outputs": [
    {
     "data": {
      "image/png": "[encoded data removed]",
      "text/plain": [
       "<Figure size 576x360 with 1 Axes>"
      ]
     },
     "metadata": {
      "needs_background": "light"
     },
     "output_type": "display_data"
    }
   ],
   "source": [
    "pd.DataFrame(history.history).plot(figsize=(8, 5))\n",
    "plt.grid(True)\n",
    "plt.gca().set_ylim(0, 1)\n",
    "plt.show()"
   ]
  },
  {
   "cell_type": "code",
   "execution_count": 127,
   "metadata": {},
   "outputs": [
    {
     "data": {
      "text/plain": [
       "array([[0.  , 0.  , 0.  , 0.  , 0.  , 0.04, 0.96, 0.  , 0.  , 0.  ],\n",
       "       [0.  , 0.  , 1.  , 0.  , 0.  , 0.  , 0.  , 0.  , 0.  , 0.  ],\n",
       "       [0.  , 0.  , 0.  , 0.  , 0.  , 0.54, 0.45, 0.  , 0.  , 0.  ],\n",
       "       [0.98, 0.  , 0.  , 0.  , 0.  , 0.02, 0.  , 0.  , 0.  , 0.  ],\n",
       "       [0.01, 0.  , 0.  , 0.76, 0.  , 0.  , 0.  , 0.24, 0.  , 0.  ],\n",
       "       [0.  , 0.04, 0.82, 0.  , 0.  , 0.  , 0.14, 0.  , 0.  , 0.  ],\n",
       "       [0.  , 0.97, 0.02, 0.  , 0.  , 0.  , 0.  , 0.  , 0.01, 0.  ],\n",
       "       [0.  , 0.37, 0.63, 0.  , 0.  , 0.  , 0.  , 0.  , 0.  , 0.  ],\n",
       "       [0.  , 0.  , 0.  , 0.  , 0.  , 0.07, 0.93, 0.  , 0.  , 0.  ],\n",
       "       [0.  , 1.  , 0.  , 0.  , 0.  , 0.  , 0.  , 0.  , 0.  , 0.  ],\n",
       "       [0.  , 0.  , 1.  , 0.  , 0.  , 0.  , 0.  , 0.  , 0.  , 0.  ],\n",
       "       [0.  , 0.  , 0.  , 0.  , 0.  , 0.13, 0.87, 0.  , 0.  , 0.  ],\n",
       "       [0.  , 0.3 , 0.05, 0.  , 0.  , 0.01, 0.01, 0.01, 0.61, 0.  ],\n",
       "       [0.  , 0.  , 0.01, 0.  , 0.  , 0.  , 0.98, 0.  , 0.  , 0.  ],\n",
       "       [0.  , 0.  , 0.04, 0.  , 0.  , 0.09, 0.87, 0.  , 0.  , 0.  ],\n",
       "       [0.  , 1.  , 0.  , 0.  , 0.  , 0.  , 0.  , 0.  , 0.  , 0.  ],\n",
       "       [0.  , 1.  , 0.  , 0.  , 0.  , 0.  , 0.  , 0.  , 0.  , 0.  ],\n",
       "       [0.04, 0.  , 0.  , 0.  , 0.  , 0.52, 0.44, 0.  , 0.  , 0.  ],\n",
       "       [0.01, 0.01, 0.04, 0.01, 0.  , 0.26, 0.63, 0.01, 0.03, 0.01],\n",
       "       [0.  , 0.  , 1.  , 0.  , 0.  , 0.  , 0.  , 0.  , 0.  , 0.  ],\n",
       "       [0.  , 0.  , 0.  , 0.  , 0.  , 0.14, 0.86, 0.  , 0.  , 0.  ],\n",
       "       [0.  , 0.85, 0.04, 0.  , 0.02, 0.  , 0.  , 0.01, 0.08, 0.  ],\n",
       "       [0.99, 0.  , 0.  , 0.  , 0.  , 0.  , 0.  , 0.01, 0.  , 0.  ],\n",
       "       [0.  , 1.  , 0.  , 0.  , 0.  , 0.  , 0.  , 0.  , 0.  , 0.  ],\n",
       "       [0.  , 0.  , 0.97, 0.  , 0.  , 0.  , 0.03, 0.  , 0.  , 0.  ],\n",
       "       [0.01, 0.  , 0.  , 0.  , 0.  , 0.75, 0.24, 0.  , 0.  , 0.  ],\n",
       "       [0.  , 1.  , 0.  , 0.  , 0.  , 0.  , 0.  , 0.  , 0.  , 0.  ],\n",
       "       [0.02, 0.  , 0.  , 0.66, 0.  , 0.01, 0.  , 0.31, 0.  , 0.  ],\n",
       "       [0.  , 0.28, 0.66, 0.  , 0.  , 0.  , 0.01, 0.  , 0.05, 0.  ],\n",
       "       [0.  , 1.  , 0.  , 0.  , 0.  , 0.  , 0.  , 0.  , 0.  , 0.  ]],\n",
       "      dtype=float32)"
      ]
     },
     "execution_count": 127,
     "metadata": {},
     "output_type": "execute_result"
    }
   ],
   "source": [
    "X_new = X_test[:30]\n",
    "y_proba = model.predict(X_new)\n",
    "y_proba.round(2)"
   ]
  },
  {
   "cell_type": "code",
   "execution_count": 128,
   "metadata": {
    "scrolled": true
   },
   "outputs": [
    {
     "data": {
      "image/png": "[encoded data removed]",
      "text/plain": [
       "<Figure size 1152x576 with 30 Axes>"
      ]
     },
     "metadata": {
      "needs_background": "light"
     },
     "output_type": "display_data"
    }
   ],
   "source": [
    "y_indexes = np.argmax(y_proba, axis=1)\n",
    "plot_train_data(X_new, y_indexes, start=0, count=30)"
   ]
  },
  {
   "cell_type": "code",
   "execution_count": 136,
   "metadata": {},
   "outputs": [
    {
     "name": "stdout",
     "output_type": "stream",
     "text": [
      "Save a Keras model and its weights in TensorFlow.js format.\n",
      "\n",
      "Args:\n",
      "  model: An instance of `keras.Model`.\n",
      "  artifacts_dir: The directory in which the artifacts will be saved.\n",
      "    The artifacts to be saved include:\n",
      "      - model.json: A JSON representing the model. It has the following\n",
      "        fields:\n",
      "        - 'modelTopology': A JSON object describing the topology of the model,\n",
      "          along with additional information such as training. It is obtained\n",
      "          through calling `model.save()`.\n",
      "        - 'weightsManifest': A TensorFlow.js-format JSON manifest for the\n",
      "          model's weights.\n",
      "      - files containing weight values in groups, with the file name pattern\n",
      "        group(\\d+)-shard(\\d+)of(\\d+).\n",
      "    If the directory does not exist, this function will attempt to create it.\n",
      "  quantization_dtype_map: (Optional) A mapping from dtype\n",
      "    (`uint8`, `uint16`, `float16`) to weights names. The weight mapping\n",
      "    supports wildcard substitution.\n",
      "  weight_shard_size_bytes: Shard size (in bytes) of the weight files.\n",
      "    The size of each weight file will be <= this value.\n",
      "\n",
      "Raises:\n",
      "  ValueError: If `artifacts_dir` already exists as a file (not a directory).\n"
     ]
    }
   ],
   "source": [
    "print(inspect.getdoc(tfjs.converters.save_keras_model))"
   ]
  },
  {
   "cell_type": "code",
   "execution_count": 137,
   "metadata": {},
   "outputs": [
    {
     "name": "stderr",
     "output_type": "stream",
     "text": [
      "/Users/andy/opt/anaconda3/envs/color-classifier/lib/python3.8/site-packages/tensorflowjs/converters/keras_h5_conversion.py:123: H5pyDeprecationWarning: The default file mode will change to 'r' (read-only) in h5py 3.0. To suppress this warning, pass the mode you need to h5py.File(), or set the global default h5.get_config().default_file_mode, or set the environment variable H5PY_DEFAULT_READONLY=1. Available modes are: 'r', 'r+', 'w', 'w-'/'x', 'a'. See the docs for details.\n",
      "  return h5py.File(h5file)\n"
     ]
    }
   ],
   "source": [
    "tfjs.converters.save_keras_model(model, \".\")"
   ]
  },
  {
   "cell_type": "code",
   "execution_count": null,
   "metadata": {},
   "outputs": [],
   "source": []
  },
  {
   "cell_type": "code",
   "execution_count": null,
   "metadata": {},
   "outputs": [],
   "source": []
  },
  {
   "cell_type": "code",
   "execution_count": null,
   "metadata": {},
   "outputs": [],
   "source": []
  },
  {
   "cell_type": "code",
   "execution_count": null,
   "metadata": {},
   "outputs": [],
   "source": []
  }
 ],
 "metadata": {
  "kernelspec": {
   "display_name": "color-classifier",
   "language": "python",
   "name": "color-classifier"
  },
  "language_info": {
   "codemirror_mode": {
    "name": "ipython",
    "version": 3
   },
   "file_extension": ".py",
   "mimetype": "text/x-python",
   "name": "python",
   "nbconvert_exporter": "python",
   "pygments_lexer": "ipython3",
   "version": "3.8.6"
  }
 },
 "nbformat": 4,
 "nbformat_minor": 4
}
