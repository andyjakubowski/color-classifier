{
 "cells": [
  {
   "cell_type": "markdown",
   "metadata": {},
   "source": [
    "```javascript\n",
    "// Define a model for linear regression.\n",
    "const model = tf.sequential();\n",
    "model.add(tf.layers.dense({units: 1, inputShape: [1]}));\n",
    "\n",
    "model.compile({loss: 'meanSquaredError', optimizer: 'sgd'});\n",
    "\n",
    "// Generate some synthetic data for training.\n",
    "const xs = tf.tensor2d([1, 2, 3, 4], [4, 1]);\n",
    "const ys = tf.tensor2d([1, 3, 5, 7], [4, 1]);\n",
    "\n",
    "// Train the model using the data.\n",
    "model.fit(xs, ys, {epochs: 10}).then(() => {\n",
    "  // Use the model to do inference on a data point the model hasn't seen before:\n",
    "  model.predict(tf.tensor2d([5], [1, 1])).print();\n",
    "  // Open the browser devtools to see the output\n",
    "});\n",
    "```"
   ]
  },
  {
   "cell_type": "code",
   "execution_count": 14,
   "metadata": {},
   "outputs": [],
   "source": [
    "from tensorflow import keras\n",
    "import tensorflow as tf\n",
    "import tensorflowjs as tfjs"
   ]
  },
  {
   "cell_type": "code",
   "execution_count": 7,
   "metadata": {},
   "outputs": [
    {
     "name": "stdout",
     "output_type": "stream",
     "text": [
      "Epoch 1/10\n",
      "1/1 [==============================] - 0s 1ms/step - loss: 71.5220\n",
      "Epoch 2/10\n",
      "1/1 [==============================] - 0s 852us/step - loss: 49.8159\n",
      "Epoch 3/10\n",
      "1/1 [==============================] - 0s 937us/step - loss: 34.7534\n",
      "Epoch 4/10\n",
      "1/1 [==============================] - 0s 811us/step - loss: 24.3007\n",
      "Epoch 5/10\n",
      "1/1 [==============================] - 0s 901us/step - loss: 17.0467\n",
      "Epoch 6/10\n",
      "1/1 [==============================] - 0s 1ms/step - loss: 12.0122\n",
      "Epoch 7/10\n",
      "1/1 [==============================] - 0s 1ms/step - loss: 8.5178\n",
      "Epoch 8/10\n",
      "1/1 [==============================] - 0s 1ms/step - loss: 6.0920\n",
      "Epoch 9/10\n",
      "1/1 [==============================] - 0s 907us/step - loss: 4.4077\n",
      "Epoch 10/10\n",
      "1/1 [==============================] - 0s 2ms/step - loss: 3.2379\n"
     ]
    }
   ],
   "source": [
    "model = keras.models.Sequential([\n",
    "    keras.layers.Dense(1, input_shape=[1])\n",
    "])\n",
    "\n",
    "model.compile(loss=\"mean_squared_error\", optimizer=\"sgd\")\n",
    "\n",
    "xs = tf.constant([1, 2, 3, 4], shape=[4, 1])\n",
    "ys = tf.constant([1, 3, 5, 7], shape=[4, 1])\n",
    "\n",
    "history = model.fit(xs, ys, epochs=10)"
   ]
  },
  {
   "cell_type": "code",
   "execution_count": 13,
   "metadata": {},
   "outputs": [
    {
     "data": {
      "text/plain": [
       "array([[4.3961506]], dtype=float32)"
      ]
     },
     "execution_count": 13,
     "metadata": {},
     "output_type": "execute_result"
    }
   ],
   "source": [
    "x_new = tf.constant([4], shape=[1, 1])\n",
    "model.predict(x_new)"
   ]
  },
  {
   "cell_type": "code",
   "execution_count": 15,
   "metadata": {},
   "outputs": [
    {
     "name": "stderr",
     "output_type": "stream",
     "text": [
      "/Users/andy/opt/anaconda3/envs/color-classifier/lib/python3.8/site-packages/tensorflowjs/converters/keras_h5_conversion.py:123: H5pyDeprecationWarning: The default file mode will change to 'r' (read-only) in h5py 3.0. To suppress this warning, pass the mode you need to h5py.File(), or set the global default h5.get_config().default_file_mode, or set the environment variable H5PY_DEFAULT_READONLY=1. Available modes are: 'r', 'r+', 'w', 'w-'/'x', 'a'. See the docs for details.\n",
      "  return h5py.File(h5file)\n"
     ]
    }
   ],
   "source": [
    "tfjs.converters.save_keras_model(model, \"./spike_model\")"
   ]
  }
 ],
 "metadata": {
  "kernelspec": {
   "display_name": "color-classifier",
   "language": "python",
   "name": "color-classifier"
  },
  "language_info": {
   "codemirror_mode": {
    "name": "ipython",
    "version": 3
   },
   "file_extension": ".py",
   "mimetype": "text/x-python",
   "name": "python",
   "nbconvert_exporter": "python",
   "pygments_lexer": "ipython3",
   "version": "3.8.6"
  }
 },
 "nbformat": 4,
 "nbformat_minor": 4
}
