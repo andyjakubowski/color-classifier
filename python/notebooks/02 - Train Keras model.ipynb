{
 "cells": [
  {
   "cell_type": "code",
   "execution_count": 31,
   "metadata": {},
   "outputs": [],
   "source": [
    "import tensorflow as tf\n",
    "import tensorflowjs as tfjs\n",
    "from tensorflow import keras\n",
    "import numpy as np\n",
    "import json\n",
    "import math\n",
    "import inspect\n",
    "import matplotlib.pyplot as plt\n",
    "import pandas as pd"
   ]
  },
  {
   "cell_type": "code",
   "execution_count": 32,
   "metadata": {},
   "outputs": [],
   "source": [
    "def get_color_labels_dict():\n",
    "    return {\n",
    "        \"red-ish\": 0,\n",
    "        \"green-ish\": 1,\n",
    "        \"blue-ish\": 2,\n",
    "        \"orange-ish\": 3,\n",
    "        \"yellow-ish\": 4,\n",
    "        \"pink-ish\": 5,\n",
    "        \"purple-ish\": 6,\n",
    "        \"brown-ish\": 7,\n",
    "        \"gray-ish\": 8,\n",
    "    }\n",
    "\n",
    "target_names = np.array(list(get_color_labels_dict().keys()))\n",
    "\n",
    "def get_target_name(index):\n",
    "    return target_names[index]\n",
    "\n",
    "def encode_color_labels_as_int(labels):\n",
    "    labels_dict = get_color_labels_dict()\n",
    "    \n",
    "    return list(map(lambda label: labels_dict[label], labels))\n",
    "\n",
    "def get_rgb_values(color):\n",
    "    rgb_array = [color['red'], color['green'], color['blue']]\n",
    "    return rgb_array\n",
    "\n",
    "def get_color_label(color):\n",
    "    return color[\"label\"]\n",
    "\n",
    "def load_json():\n",
    "    path = \"./data/labeled-colors-2020.json\"\n",
    "\n",
    "    with open(path) as json_file:\n",
    "        json_str = json_file.read()\n",
    "\n",
    "    return json.loads(json_str)\n",
    "\n",
    "def prep_data(data):\n",
    "    rgb_list = list(map(get_rgb_values, data))\n",
    "    labels_as_string = list(map(get_color_label, data))\n",
    "    labels_as_int = encode_color_labels_as_int(labels_as_string)\n",
    "    \n",
    "    rgb_ndarray = np.array(rgb_list)\n",
    "    labels_ndarray = np.array(labels_as_int)\n",
    "    \n",
    "    return (rgb_ndarray, labels_ndarray)\n",
    "\n",
    "def load_data():\n",
    "    colors_array = load_json()\n",
    "    prepped_data = prep_data(colors_array)\n",
    "    return prepped_data\n",
    "\n",
    "# Plot a grid of individual colors from the dataset\n",
    "# The colors won’t be labeled\n",
    "# I tried using annotate to label the colors, but positioning the labels was tedious\n",
    "def plot_colors(one_hundred_colors):\n",
    "    plt.figure(figsize=(12, 12), facecolor=\"black\", tight_layout=True)\n",
    "    # We reshape the colors into a square, so we need to know the size of the passed argument ahead of time...\n",
    "    # That’s why it’s called one_hundred_colors\n",
    "    plt.imshow(one_hundred_colors.reshape(10, 10, 3))\n",
    "    plt.axis(\"off\")\n",
    "    plt.annotate('Test', xy=(0.9, 0.0), xycoords=\"axes fraction\")\n",
    "    \n",
    "# Plot a bunch of colors from the dataset, and their labels\n",
    "def plot_train_data(X, y, start=0, count=24):\n",
    "    max_count = min(count, X.shape[0])\n",
    "    \n",
    "    n_cols = 8\n",
    "    n_rows = math.ceil(max_count / n_cols)\n",
    "    plt.figure(figsize=(n_cols * 2, n_rows * 2))\n",
    "    for row in range(n_rows):\n",
    "        for col in range(n_cols):\n",
    "            index = n_cols * row + col\n",
    "            \n",
    "            # Stop plotting if you reached the desired count\n",
    "            if (index == max_count):\n",
    "                return\n",
    "            \n",
    "            plt.subplot(n_rows, n_cols, index + 1)\n",
    "            \n",
    "#             breakpoint()\n",
    "            data_index = start + index\n",
    "            \n",
    "            color = X[data_index, :]\n",
    "            color = color[np.newaxis, :]\n",
    "            color = color.reshape(1, 1, 3)\n",
    "            \n",
    "            target_name = get_target_name(y[data_index])\n",
    "            \n",
    "            plt.imshow(color)\n",
    "            plt.axis('off')\n",
    "            plt.title(target_name, fontsize=12)\n",
    "    plt.subplots_adjust(wspace=0.2, hspace=0.5)\n",
    "    plt.show()\n",
    "    \n",
    "def shuffle(array):\n",
    "    rng = np.random.default_rng()\n",
    "    array_copy = array.copy()\n",
    "    return rng.shuffle(array_copy)\n",
    "\n",
    "def split_train_test_valid(data, test_size=0.3, valid_size=0.1):\n",
    "    total_count = data.shape[0]\n",
    "    \n",
    "    test_count = math.floor(total_count * test_size)\n",
    "    valid_count = math.floor(total_count * valid_size)\n",
    "    train_count = total_count - test_count - valid_count\n",
    "    \n",
    "    train = data[:train_count, :]\n",
    "    \n",
    "    valid_start_index = train_count\n",
    "    valid_end_index = valid_start_index + valid_count\n",
    "    valid = data[valid_start_index:valid_end_index, :]\n",
    "    \n",
    "    test_start_index = valid_end_index\n",
    "    test = data[test_start_index:, :]\n",
    "    \n",
    "    return (train, valid, test)"
   ]
  },
  {
   "cell_type": "code",
   "execution_count": 33,
   "metadata": {},
   "outputs": [
    {
     "data": {
      "image/png": "[encoded data removed]",
      "text/plain": [
       "<Figure size 1152x432 with 24 Axes>"
      ]
     },
     "metadata": {
      "needs_background": "light"
     },
     "output_type": "display_data"
    }
   ],
   "source": [
    "plot_train_data(X_valid, y_valid, start=0)"
   ]
  },
  {
   "cell_type": "code",
   "execution_count": 34,
   "metadata": {},
   "outputs": [
    {
     "name": "stdout",
     "output_type": "stream",
     "text": [
      "(1212, 3) (202, 3) (606, 3)\n",
      "(1212, 1) (202, 1) (606, 1)\n"
     ]
    }
   ],
   "source": [
    "X, y = load_data()\n",
    "\n",
    "np.save(\"./data/data_X\", X, allow_pickle=True)\n",
    "np.save(\"./data/data_y\", y, allow_pickle=True)\n",
    "\n",
    "X_train, X_valid, X_test = split_train_test_valid(X)\n",
    "y_train, y_valid, y_test = split_train_test_valid(y[:, np.newaxis])\n",
    "print(X_train.shape, X_valid.shape, X_test.shape)\n",
    "print(y_train.shape, y_valid.shape, y_test.shape)"
   ]
  },
  {
   "cell_type": "code",
   "execution_count": 35,
   "metadata": {},
   "outputs": [],
   "source": [
    "keras.backend.clear_session()\n",
    "np.random.seed(42)\n",
    "tf.random.set_seed(42)"
   ]
  },
  {
   "cell_type": "code",
   "execution_count": 36,
   "metadata": {},
   "outputs": [],
   "source": [
    "model = keras.models.Sequential([\n",
    "    keras.layers.Dense(300, activation=\"relu\", input_shape=[3]),\n",
    "    keras.layers.Dense(100, activation=\"relu\"),\n",
    "    keras.layers.Dense(9, activation=\"softmax\")\n",
    "])"
   ]
  },
  {
   "cell_type": "code",
   "execution_count": 37,
   "metadata": {},
   "outputs": [
    {
     "data": {
      "text/plain": [
       "[<tensorflow.python.keras.layers.core.Dense at 0x7f977f1a5310>,\n",
       " <tensorflow.python.keras.layers.core.Dense at 0x7f977f1a58e0>,\n",
       " <tensorflow.python.keras.layers.core.Dense at 0x7f977f1a5070>]"
      ]
     },
     "execution_count": 37,
     "metadata": {},
     "output_type": "execute_result"
    }
   ],
   "source": [
    "model.layers"
   ]
  },
  {
   "cell_type": "code",
   "execution_count": 38,
   "metadata": {},
   "outputs": [
    {
     "name": "stdout",
     "output_type": "stream",
     "text": [
      "Model: \"sequential\"\n",
      "_________________________________________________________________\n",
      "Layer (type)                 Output Shape              Param #   \n",
      "=================================================================\n",
      "dense (Dense)                (None, 300)               1200      \n",
      "_________________________________________________________________\n",
      "dense_1 (Dense)              (None, 100)               30100     \n",
      "_________________________________________________________________\n",
      "dense_2 (Dense)              (None, 9)                 909       \n",
      "=================================================================\n",
      "Total params: 32,209\n",
      "Trainable params: 32,209\n",
      "Non-trainable params: 0\n",
      "_________________________________________________________________\n"
     ]
    }
   ],
   "source": [
    "model.summary()"
   ]
  },
  {
   "cell_type": "code",
   "execution_count": 39,
   "metadata": {},
   "outputs": [],
   "source": [
    "model.compile(loss=\"sparse_categorical_crossentropy\",\n",
    "              optimizer=\"sgd\",\n",
    "              metrics=[\"accuracy\"])"
   ]
  },
  {
   "cell_type": "code",
   "execution_count": 40,
   "metadata": {},
   "outputs": [
    {
     "name": "stdout",
     "output_type": "stream",
     "text": [
      "Epoch 1/30\n",
      "38/38 [==============================] - 0s 4ms/step - loss: 10.2809 - accuracy: 0.6040 - val_loss: 0.8083 - val_accuracy: 0.6782\n",
      "Epoch 2/30\n",
      "38/38 [==============================] - 0s 2ms/step - loss: 0.7448 - accuracy: 0.7376 - val_loss: 0.7150 - val_accuracy: 0.6931\n",
      "Epoch 3/30\n",
      "38/38 [==============================] - 0s 2ms/step - loss: 0.7150 - accuracy: 0.7467 - val_loss: 0.6908 - val_accuracy: 0.7277\n",
      "Epoch 4/30\n",
      "38/38 [==============================] - 0s 2ms/step - loss: 0.6434 - accuracy: 0.7583 - val_loss: 0.6826 - val_accuracy: 0.7228\n",
      "Epoch 5/30\n",
      "38/38 [==============================] - 0s 1ms/step - loss: 0.6153 - accuracy: 0.7616 - val_loss: 0.7740 - val_accuracy: 0.6832\n",
      "Epoch 6/30\n",
      "38/38 [==============================] - 0s 1ms/step - loss: 0.5912 - accuracy: 0.7748 - val_loss: 0.5932 - val_accuracy: 0.7574\n",
      "Epoch 7/30\n",
      "38/38 [==============================] - 0s 1ms/step - loss: 0.5640 - accuracy: 0.7731 - val_loss: 0.6694 - val_accuracy: 0.7426\n",
      "Epoch 8/30\n",
      "38/38 [==============================] - 0s 2ms/step - loss: 0.5483 - accuracy: 0.7781 - val_loss: 0.5271 - val_accuracy: 0.7772\n",
      "Epoch 9/30\n",
      "38/38 [==============================] - 0s 2ms/step - loss: 0.5241 - accuracy: 0.7855 - val_loss: 0.6699 - val_accuracy: 0.7871\n",
      "Epoch 10/30\n",
      "38/38 [==============================] - 0s 2ms/step - loss: 0.5389 - accuracy: 0.7781 - val_loss: 0.6195 - val_accuracy: 0.7228\n",
      "Epoch 11/30\n",
      "38/38 [==============================] - 0s 2ms/step - loss: 0.5474 - accuracy: 0.7772 - val_loss: 0.5341 - val_accuracy: 0.7772\n",
      "Epoch 12/30\n",
      "38/38 [==============================] - 0s 2ms/step - loss: 0.5171 - accuracy: 0.7904 - val_loss: 0.8913 - val_accuracy: 0.6733\n",
      "Epoch 13/30\n",
      "38/38 [==============================] - 0s 2ms/step - loss: 0.5172 - accuracy: 0.7946 - val_loss: 0.6695 - val_accuracy: 0.7079\n",
      "Epoch 14/30\n",
      "38/38 [==============================] - 0s 2ms/step - loss: 0.4935 - accuracy: 0.8028 - val_loss: 0.7007 - val_accuracy: 0.7277\n",
      "Epoch 15/30\n",
      "38/38 [==============================] - 0s 2ms/step - loss: 0.5118 - accuracy: 0.7748 - val_loss: 0.5810 - val_accuracy: 0.7327\n",
      "Epoch 16/30\n",
      "38/38 [==============================] - 0s 2ms/step - loss: 0.5225 - accuracy: 0.7937 - val_loss: 0.7968 - val_accuracy: 0.6683\n",
      "Epoch 17/30\n",
      "38/38 [==============================] - 0s 1ms/step - loss: 0.5017 - accuracy: 0.7979 - val_loss: 0.6036 - val_accuracy: 0.7525\n",
      "Epoch 18/30\n",
      "38/38 [==============================] - 0s 1ms/step - loss: 0.5027 - accuracy: 0.7946 - val_loss: 0.5899 - val_accuracy: 0.7624\n",
      "Epoch 19/30\n",
      "38/38 [==============================] - 0s 2ms/step - loss: 0.5116 - accuracy: 0.7904 - val_loss: 0.6745 - val_accuracy: 0.7525\n",
      "Epoch 20/30\n",
      "38/38 [==============================] - 0s 2ms/step - loss: 0.4819 - accuracy: 0.8003 - val_loss: 0.7426 - val_accuracy: 0.7030\n",
      "Epoch 21/30\n",
      "38/38 [==============================] - 0s 2ms/step - loss: 0.4790 - accuracy: 0.8078 - val_loss: 0.5573 - val_accuracy: 0.7624\n",
      "Epoch 22/30\n",
      "38/38 [==============================] - 0s 2ms/step - loss: 0.4795 - accuracy: 0.8119 - val_loss: 0.6336 - val_accuracy: 0.7475\n",
      "Epoch 23/30\n",
      "38/38 [==============================] - 0s 2ms/step - loss: 0.4930 - accuracy: 0.7946 - val_loss: 0.6172 - val_accuracy: 0.7574\n",
      "Epoch 24/30\n",
      "38/38 [==============================] - 0s 2ms/step - loss: 0.4794 - accuracy: 0.8094 - val_loss: 0.6705 - val_accuracy: 0.7277\n",
      "Epoch 25/30\n",
      "38/38 [==============================] - 0s 1ms/step - loss: 0.5015 - accuracy: 0.7896 - val_loss: 0.5098 - val_accuracy: 0.7822\n",
      "Epoch 26/30\n",
      "38/38 [==============================] - 0s 1ms/step - loss: 0.4916 - accuracy: 0.8036 - val_loss: 0.5965 - val_accuracy: 0.7426\n",
      "Epoch 27/30\n",
      "38/38 [==============================] - 0s 2ms/step - loss: 0.4609 - accuracy: 0.8036 - val_loss: 0.6831 - val_accuracy: 0.7673\n",
      "Epoch 28/30\n",
      "38/38 [==============================] - 0s 2ms/step - loss: 0.4599 - accuracy: 0.8053 - val_loss: 0.5822 - val_accuracy: 0.7426\n",
      "Epoch 29/30\n",
      "38/38 [==============================] - 0s 2ms/step - loss: 0.4637 - accuracy: 0.7962 - val_loss: 0.5931 - val_accuracy: 0.7624\n",
      "Epoch 30/30\n",
      "38/38 [==============================] - 0s 2ms/step - loss: 0.4709 - accuracy: 0.8003 - val_loss: 0.5410 - val_accuracy: 0.7871\n"
     ]
    }
   ],
   "source": [
    "history = model.fit(X_train, y_train, epochs=30,\n",
    "                    validation_data=(X_valid, y_valid))"
   ]
  },
  {
   "cell_type": "code",
   "execution_count": 41,
   "metadata": {},
   "outputs": [
    {
     "data": {
      "text/plain": [
       "{'verbose': 1, 'epochs': 30, 'steps': 38}"
      ]
     },
     "execution_count": 41,
     "metadata": {},
     "output_type": "execute_result"
    }
   ],
   "source": [
    "history.params"
   ]
  },
  {
   "cell_type": "code",
   "execution_count": 42,
   "metadata": {},
   "outputs": [
    {
     "data": {
      "text/plain": [
       "{'loss': [10.280924797058105,\n",
       "  0.7447540760040283,\n",
       "  0.715042233467102,\n",
       "  0.6433671712875366,\n",
       "  0.6152715086936951,\n",
       "  0.5912188291549683,\n",
       "  0.5639628171920776,\n",
       "  0.5483373999595642,\n",
       "  0.5240954160690308,\n",
       "  0.5388662219047546,\n",
       "  0.5473572015762329,\n",
       "  0.5171023607254028,\n",
       "  0.5171857476234436,\n",
       "  0.49347683787345886,\n",
       "  0.5117508172988892,\n",
       "  0.5225411653518677,\n",
       "  0.5017150640487671,\n",
       "  0.5026771426200867,\n",
       "  0.5116164684295654,\n",
       "  0.481865257024765,\n",
       "  0.47904571890830994,\n",
       "  0.4794655442237854,\n",
       "  0.49303433299064636,\n",
       "  0.4794459640979767,\n",
       "  0.5015237927436829,\n",
       "  0.4916447401046753,\n",
       "  0.4609028398990631,\n",
       "  0.4598771333694458,\n",
       "  0.4636530578136444,\n",
       "  0.4709482192993164],\n",
       " 'accuracy': [0.603960394859314,\n",
       "  0.7376237511634827,\n",
       "  0.7466996908187866,\n",
       "  0.7582508325576782,\n",
       "  0.7615511417388916,\n",
       "  0.7747524976730347,\n",
       "  0.7731022834777832,\n",
       "  0.778052806854248,\n",
       "  0.7854785323143005,\n",
       "  0.778052806854248,\n",
       "  0.7772276997566223,\n",
       "  0.7904290556907654,\n",
       "  0.7945544719696045,\n",
       "  0.8028053045272827,\n",
       "  0.7747524976730347,\n",
       "  0.7937293648719788,\n",
       "  0.7978547811508179,\n",
       "  0.7945544719696045,\n",
       "  0.7904290556907654,\n",
       "  0.8003300428390503,\n",
       "  0.8077557682991028,\n",
       "  0.8118811845779419,\n",
       "  0.7945544719696045,\n",
       "  0.8094059228897095,\n",
       "  0.7896039485931396,\n",
       "  0.8036303520202637,\n",
       "  0.8036303520202637,\n",
       "  0.8052805066108704,\n",
       "  0.7962046265602112,\n",
       "  0.8003300428390503],\n",
       " 'val_loss': [0.8082941770553589,\n",
       "  0.7150365710258484,\n",
       "  0.6908318400382996,\n",
       "  0.6825801730155945,\n",
       "  0.7740484476089478,\n",
       "  0.5931940674781799,\n",
       "  0.6693541407585144,\n",
       "  0.5270844101905823,\n",
       "  0.6698682308197021,\n",
       "  0.6194892525672913,\n",
       "  0.5341301560401917,\n",
       "  0.8912520408630371,\n",
       "  0.6695202589035034,\n",
       "  0.700737476348877,\n",
       "  0.5810256004333496,\n",
       "  0.796841561794281,\n",
       "  0.6036083698272705,\n",
       "  0.5898836255073547,\n",
       "  0.6744619011878967,\n",
       "  0.7425970435142517,\n",
       "  0.5573228001594543,\n",
       "  0.6336337327957153,\n",
       "  0.6171755194664001,\n",
       "  0.6705160737037659,\n",
       "  0.5098049640655518,\n",
       "  0.5965107679367065,\n",
       "  0.6830949783325195,\n",
       "  0.5822244882583618,\n",
       "  0.5930830240249634,\n",
       "  0.5410497784614563],\n",
       " 'val_accuracy': [0.6782178282737732,\n",
       "  0.6930692791938782,\n",
       "  0.7277227640151978,\n",
       "  0.7227723002433777,\n",
       "  0.6831682920455933,\n",
       "  0.7574257254600525,\n",
       "  0.7425742745399475,\n",
       "  0.7772276997566223,\n",
       "  0.7871286869049072,\n",
       "  0.7227723002433777,\n",
       "  0.7772276997566223,\n",
       "  0.6732673048973083,\n",
       "  0.7079207897186279,\n",
       "  0.7277227640151978,\n",
       "  0.7326732873916626,\n",
       "  0.6683168411254883,\n",
       "  0.7524752616882324,\n",
       "  0.7623762488365173,\n",
       "  0.7524752616882324,\n",
       "  0.7029703259468079,\n",
       "  0.7623762488365173,\n",
       "  0.7475247383117676,\n",
       "  0.7574257254600525,\n",
       "  0.7277227640151978,\n",
       "  0.7821782231330872,\n",
       "  0.7425742745399475,\n",
       "  0.7673267126083374,\n",
       "  0.7425742745399475,\n",
       "  0.7623762488365173,\n",
       "  0.7871286869049072]}"
      ]
     },
     "execution_count": 42,
     "metadata": {},
     "output_type": "execute_result"
    }
   ],
   "source": [
    "history.history"
   ]
  },
  {
   "cell_type": "code",
   "execution_count": 43,
   "metadata": {},
   "outputs": [
    {
     "name": "stdout",
     "output_type": "stream",
     "text": [
      "19/19 [==============================] - 0s 2ms/step - loss: 0.5543 - accuracy: 0.7657\n"
     ]
    },
    {
     "data": {
      "text/plain": [
       "[0.5542805790901184, 0.7656765580177307]"
      ]
     },
     "execution_count": 43,
     "metadata": {},
     "output_type": "execute_result"
    }
   ],
   "source": [
    "model.evaluate(X_test, y_test)"
   ]
  },
  {
   "cell_type": "code",
   "execution_count": 44,
   "metadata": {},
   "outputs": [
    {
     "data": {
      "image/png": "[encoded data removed]",
      "text/plain": [
       "<Figure size 576x360 with 1 Axes>"
      ]
     },
     "metadata": {
      "needs_background": "light"
     },
     "output_type": "display_data"
    }
   ],
   "source": [
    "pd.DataFrame(history.history).plot(figsize=(8, 5))\n",
    "plt.grid(True)\n",
    "plt.gca().set_ylim(0, 1)\n",
    "plt.show()"
   ]
  },
  {
   "cell_type": "code",
   "execution_count": 45,
   "metadata": {},
   "outputs": [
    {
     "data": {
      "text/plain": [
       "array([[0.  , 0.  , 0.01, 0.  , 0.  , 0.04, 0.95, 0.  , 0.  ],\n",
       "       [0.  , 0.  , 1.  , 0.  , 0.  , 0.  , 0.  , 0.  , 0.  ],\n",
       "       [0.  , 0.  , 0.  , 0.  , 0.  , 0.42, 0.58, 0.  , 0.  ],\n",
       "       [0.98, 0.  , 0.  , 0.  , 0.  , 0.02, 0.  , 0.  , 0.  ],\n",
       "       [0.03, 0.  , 0.  , 0.64, 0.  , 0.  , 0.  , 0.33, 0.  ],\n",
       "       [0.  , 0.02, 0.77, 0.  , 0.  , 0.  , 0.21, 0.  , 0.  ],\n",
       "       [0.  , 0.93, 0.05, 0.  , 0.  , 0.  , 0.  , 0.  , 0.01],\n",
       "       [0.  , 0.27, 0.73, 0.  , 0.  , 0.  , 0.  , 0.  , 0.  ],\n",
       "       [0.  , 0.  , 0.01, 0.  , 0.  , 0.07, 0.91, 0.  , 0.  ],\n",
       "       [0.  , 0.99, 0.01, 0.  , 0.  , 0.  , 0.  , 0.  , 0.  ],\n",
       "       [0.  , 0.  , 1.  , 0.  , 0.  , 0.  , 0.  , 0.  , 0.  ],\n",
       "       [0.  , 0.  , 0.  , 0.  , 0.  , 0.11, 0.89, 0.  , 0.  ],\n",
       "       [0.  , 0.33, 0.04, 0.02, 0.  , 0.05, 0.01, 0.01, 0.53],\n",
       "       [0.  , 0.  , 0.03, 0.  , 0.  , 0.01, 0.97, 0.  , 0.  ],\n",
       "       [0.  , 0.  , 0.03, 0.  , 0.  , 0.08, 0.89, 0.  , 0.  ],\n",
       "       [0.  , 1.  , 0.  , 0.  , 0.  , 0.  , 0.  , 0.  , 0.  ],\n",
       "       [0.  , 1.  , 0.  , 0.  , 0.  , 0.  , 0.  , 0.  , 0.  ],\n",
       "       [0.08, 0.  , 0.  , 0.  , 0.  , 0.5 , 0.41, 0.  , 0.  ],\n",
       "       [0.01, 0.01, 0.06, 0.01, 0.01, 0.24, 0.63, 0.01, 0.03],\n",
       "       [0.  , 0.  , 1.  , 0.  , 0.  , 0.  , 0.  , 0.  , 0.  ],\n",
       "       [0.  , 0.  , 0.  , 0.  , 0.  , 0.12, 0.87, 0.  , 0.  ],\n",
       "       [0.  , 0.75, 0.04, 0.01, 0.01, 0.  , 0.  , 0.01, 0.16],\n",
       "       [1.  , 0.  , 0.  , 0.  , 0.  , 0.  , 0.  , 0.  , 0.  ],\n",
       "       [0.  , 1.  , 0.  , 0.  , 0.  , 0.  , 0.  , 0.  , 0.  ],\n",
       "       [0.  , 0.  , 0.89, 0.  , 0.  , 0.  , 0.11, 0.  , 0.  ],\n",
       "       [0.  , 0.  , 0.  , 0.  , 0.  , 0.66, 0.33, 0.  , 0.  ],\n",
       "       [0.  , 1.  , 0.  , 0.  , 0.  , 0.  , 0.  , 0.  , 0.  ],\n",
       "       [0.06, 0.  , 0.  , 0.41, 0.  , 0.06, 0.  , 0.46, 0.  ],\n",
       "       [0.  , 0.2 , 0.76, 0.  , 0.  , 0.  , 0.  , 0.  , 0.03],\n",
       "       [0.  , 1.  , 0.  , 0.  , 0.  , 0.  , 0.  , 0.  , 0.  ]],\n",
       "      dtype=float32)"
      ]
     },
     "execution_count": 45,
     "metadata": {},
     "output_type": "execute_result"
    }
   ],
   "source": [
    "X_new = X_test[:30]\n",
    "y_proba = model.predict(X_new)\n",
    "y_proba.round(2)"
   ]
  },
  {
   "cell_type": "code",
   "execution_count": 46,
   "metadata": {
    "scrolled": true
   },
   "outputs": [
    {
     "data": {
      "image/png": "[encoded data removed]",
      "text/plain": [
       "<Figure size 1152x576 with 30 Axes>"
      ]
     },
     "metadata": {
      "needs_background": "light"
     },
     "output_type": "display_data"
    }
   ],
   "source": [
    "y_indexes = np.argmax(y_proba, axis=1)\n",
    "plot_train_data(X_new, y_indexes, start=0, count=30)"
   ]
  },
  {
   "cell_type": "code",
   "execution_count": 47,
   "metadata": {},
   "outputs": [
    {
     "name": "stdout",
     "output_type": "stream",
     "text": [
      "Save a Keras model and its weights in TensorFlow.js format.\n",
      "\n",
      "Args:\n",
      "  model: An instance of `keras.Model`.\n",
      "  artifacts_dir: The directory in which the artifacts will be saved.\n",
      "    The artifacts to be saved include:\n",
      "      - model.json: A JSON representing the model. It has the following\n",
      "        fields:\n",
      "        - 'modelTopology': A JSON object describing the topology of the model,\n",
      "          along with additional information such as training. It is obtained\n",
      "          through calling `model.save()`.\n",
      "        - 'weightsManifest': A TensorFlow.js-format JSON manifest for the\n",
      "          model's weights.\n",
      "      - files containing weight values in groups, with the file name pattern\n",
      "        group(\\d+)-shard(\\d+)of(\\d+).\n",
      "    If the directory does not exist, this function will attempt to create it.\n",
      "  quantization_dtype_map: (Optional) A mapping from dtype\n",
      "    (`uint8`, `uint16`, `float16`) to weights names. The weight mapping\n",
      "    supports wildcard substitution.\n",
      "  weight_shard_size_bytes: Shard size (in bytes) of the weight files.\n",
      "    The size of each weight file will be <= this value.\n",
      "\n",
      "Raises:\n",
      "  ValueError: If `artifacts_dir` already exists as a file (not a directory).\n"
     ]
    }
   ],
   "source": [
    "print(inspect.getdoc(tfjs.converters.save_keras_model))"
   ]
  },
  {
   "cell_type": "code",
   "execution_count": 48,
   "metadata": {},
   "outputs": [
    {
     "name": "stderr",
     "output_type": "stream",
     "text": [
      "/Users/andy/opt/anaconda3/envs/color-classifier/lib/python3.8/site-packages/tensorflowjs/converters/keras_h5_conversion.py:123: H5pyDeprecationWarning: The default file mode will change to 'r' (read-only) in h5py 3.0. To suppress this warning, pass the mode you need to h5py.File(), or set the global default h5.get_config().default_file_mode, or set the environment variable H5PY_DEFAULT_READONLY=1. Available modes are: 'r', 'r+', 'w', 'w-'/'x', 'a'. See the docs for details.\n",
      "  return h5py.File(h5file)\n"
     ]
    }
   ],
   "source": [
    "tfjs.converters.save_keras_model(model, \".\")"
   ]
  },
  {
   "cell_type": "code",
   "execution_count": null,
   "metadata": {},
   "outputs": [],
   "source": []
  },
  {
   "cell_type": "code",
   "execution_count": null,
   "metadata": {},
   "outputs": [],
   "source": []
  },
  {
   "cell_type": "code",
   "execution_count": null,
   "metadata": {},
   "outputs": [],
   "source": []
  },
  {
   "cell_type": "code",
   "execution_count": null,
   "metadata": {},
   "outputs": [],
   "source": []
  }
 ],
 "metadata": {
  "kernelspec": {
   "display_name": "color-classifier",
   "language": "python",
   "name": "color-classifier"
  },
  "language_info": {
   "codemirror_mode": {
    "name": "ipython",
    "version": 3
   },
   "file_extension": ".py",
   "mimetype": "text/x-python",
   "name": "python",
   "nbconvert_exporter": "python",
   "pygments_lexer": "ipython3",
   "version": "3.8.6"
  }
 },
 "nbformat": 4,
 "nbformat_minor": 4
}
