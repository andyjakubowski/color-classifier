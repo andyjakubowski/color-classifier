{
 "cells": [
  {
   "cell_type": "markdown",
   "metadata": {},
   "source": [
    "From [TensorFlow.js Setup](https://www.tensorflow.org/js/tutorials/setup#usage_via_script_tag):\n",
    "\n",
    "```javascript\n",
    "// Define a model for linear regression.\n",
    "const model = tf.sequential();\n",
    "model.add(tf.layers.dense({units: 1, inputShape: [1]}));\n",
    "\n",
    "model.compile({loss: 'meanSquaredError', optimizer: 'sgd'});\n",
    "\n",
    "// Generate some synthetic data for training.\n",
    "const xs = tf.tensor2d([1, 2, 3, 4], [4, 1]);\n",
    "const ys = tf.tensor2d([1, 3, 5, 7], [4, 1]);\n",
    "\n",
    "// Train the model using the data.\n",
    "model.fit(xs, ys, {epochs: 10}).then(() => {\n",
    "  // Use the model to do inference on a data point the model hasn't seen before:\n",
    "  model.predict(tf.tensor2d([5], [1, 1])).print();\n",
    "  // Open the browser devtools to see the output\n",
    "});\n",
    "```"
   ]
  },
  {
   "cell_type": "code",
   "execution_count": 7,
   "metadata": {},
   "outputs": [],
   "source": [
    "from tensorflow import keras\n",
    "import tensorflow as tf\n",
    "import tensorflowjs as tfjs"
   ]
  },
  {
   "cell_type": "code",
   "execution_count": 8,
   "metadata": {},
   "outputs": [],
   "source": [
    "# Load the data\n",
    "X = np.load(\"./data/data_X.npy\", allow_pickle=True)\n",
    "y = np.load(\"./data/data_y.npy\", allow_pickle=True)"
   ]
  },
  {
   "cell_type": "code",
   "execution_count": 9,
   "metadata": {},
   "outputs": [
    {
     "name": "stdout",
     "output_type": "stream",
     "text": [
      "(2020, 3) (2020,)\n"
     ]
    }
   ],
   "source": [
    "print(X.shape, y.shape)"
   ]
  },
  {
   "cell_type": "code",
   "execution_count": 17,
   "metadata": {},
   "outputs": [
    {
     "name": "stdout",
     "output_type": "stream",
     "text": [
      "Model: \"sequential_6\"\n",
      "_________________________________________________________________\n",
      "Layer (type)                 Output Shape              Param #   \n",
      "=================================================================\n",
      "dense_8 (Dense)              (None, 10)                40        \n",
      "_________________________________________________________________\n",
      "dense_9 (Dense)              (None, 10)                110       \n",
      "=================================================================\n",
      "Total params: 150\n",
      "Trainable params: 150\n",
      "Non-trainable params: 0\n",
      "_________________________________________________________________\n"
     ]
    }
   ],
   "source": [
    "model = keras.models.Sequential([\n",
    "    keras.layers.Dense(10, activation=\"relu\", input_shape=[3]),\n",
    "    keras.layers.Dense(10, activation=\"softmax\")\n",
    "])\n",
    "\n",
    "model.compile(loss=\"sparse_categorical_crossentropy\",\n",
    "              optimizer=\"sgd\",\n",
    "              metrics=[\"accuracy\"])\n",
    "\n",
    "# xs = tf.constant([[0, 0, 0], [100, 100, 100], [222, 222, 222], [33, 33, 33]], shape=[4, 3])\n",
    "# ys = tf.constant([1, 3, 5, 7], shape=[4, 1])\n",
    "model.summary()"
   ]
  },
  {
   "cell_type": "code",
   "execution_count": 18,
   "metadata": {},
   "outputs": [
    {
     "name": "stdout",
     "output_type": "stream",
     "text": [
      "Epoch 1/10\n",
      "64/64 [==============================] - 0s 506us/step - loss: 3.0348 - accuracy: 0.3842\n",
      "Epoch 2/10\n",
      "64/64 [==============================] - 0s 497us/step - loss: 1.6931 - accuracy: 0.4970\n",
      "Epoch 3/10\n",
      "64/64 [==============================] - 0s 500us/step - loss: 1.4503 - accuracy: 0.5975\n",
      "Epoch 4/10\n",
      "64/64 [==============================] - 0s 488us/step - loss: 1.4064 - accuracy: 0.5772\n",
      "Epoch 5/10\n",
      "64/64 [==============================] - 0s 486us/step - loss: 1.2437 - accuracy: 0.6332\n",
      "Epoch 6/10\n",
      "64/64 [==============================] - 0s 487us/step - loss: 1.1671 - accuracy: 0.6347\n",
      "Epoch 7/10\n",
      "64/64 [==============================] - 0s 487us/step - loss: 1.0925 - accuracy: 0.6470\n",
      "Epoch 8/10\n",
      "64/64 [==============================] - 0s 485us/step - loss: 1.1099 - accuracy: 0.6391\n",
      "Epoch 9/10\n",
      "64/64 [==============================] - 0s 477us/step - loss: 1.2427 - accuracy: 0.6238\n",
      "Epoch 10/10\n",
      "64/64 [==============================] - 0s 512us/step - loss: 1.0683 - accuracy: 0.6495\n"
     ]
    }
   ],
   "source": [
    "history = model.fit(X, y, epochs=10)"
   ]
  },
  {
   "cell_type": "code",
   "execution_count": 21,
   "metadata": {},
   "outputs": [
    {
     "data": {
      "text/plain": [
       "array([[1., 0., 0., 0., 0., 0., 0., 0., 0., 0.]], dtype=float32)"
      ]
     },
     "execution_count": 21,
     "metadata": {},
     "output_type": "execute_result"
    }
   ],
   "source": [
    "x_new = tf.constant([250, 0, 0], shape=[1, 3])\n",
    "model.predict(x_new).round(2)"
   ]
  },
  {
   "cell_type": "code",
   "execution_count": 22,
   "metadata": {},
   "outputs": [
    {
     "name": "stderr",
     "output_type": "stream",
     "text": [
      "/Users/andy/opt/anaconda3/envs/color-classifier/lib/python3.8/site-packages/tensorflowjs/converters/keras_h5_conversion.py:123: H5pyDeprecationWarning: The default file mode will change to 'r' (read-only) in h5py 3.0. To suppress this warning, pass the mode you need to h5py.File(), or set the global default h5.get_config().default_file_mode, or set the environment variable H5PY_DEFAULT_READONLY=1. Available modes are: 'r', 'r+', 'w', 'w-'/'x', 'a'. See the docs for details.\n",
      "  return h5py.File(h5file)\n"
     ]
    }
   ],
   "source": [
    "tfjs.converters.save_keras_model(model, \"./spike_my_model\")"
   ]
  }
 ],
 "metadata": {
  "kernelspec": {
   "display_name": "color-classifier",
   "language": "python",
   "name": "color-classifier"
  },
  "language_info": {
   "codemirror_mode": {
    "name": "ipython",
    "version": 3
   },
   "file_extension": ".py",
   "mimetype": "text/x-python",
   "name": "python",
   "nbconvert_exporter": "python",
   "pygments_lexer": "ipython3",
   "version": "3.8.6"
  }
 },
 "nbformat": 4,
 "nbformat_minor": 4
}
