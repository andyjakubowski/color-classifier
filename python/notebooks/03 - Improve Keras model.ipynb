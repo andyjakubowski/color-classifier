{
 "cells": [
  {
   "cell_type": "code",
   "execution_count": 16,
   "metadata": {},
   "outputs": [],
   "source": [
    "import tensorflow as tf\n",
    "import tensorflowjs as tfjs\n",
    "from tensorflow import keras\n",
    "import numpy as np\n",
    "import json\n",
    "import math\n",
    "import inspect\n",
    "import matplotlib.pyplot as plt\n",
    "import pandas as pd"
   ]
  },
  {
   "cell_type": "code",
   "execution_count": 17,
   "metadata": {},
   "outputs": [],
   "source": [
    "def get_color_labels_dict():\n",
    "    return {\n",
    "        \"red-ish\": 0,\n",
    "        \"green-ish\": 1,\n",
    "        \"blue-ish\": 2,\n",
    "        \"orange-ish\": 3,\n",
    "        \"yellow-ish\": 4,\n",
    "        \"pink-ish\": 5,\n",
    "        \"purple-ish\": 6,\n",
    "        \"brown-ish\": 7,\n",
    "        \"gray-ish\": 8,\n",
    "    }\n",
    "\n",
    "target_names = np.array(list(get_color_labels_dict().keys()))\n",
    "\n",
    "def get_target_name(index):\n",
    "    return target_names[index]\n",
    "\n",
    "def encode_color_labels_as_int(labels):\n",
    "    labels_dict = get_color_labels_dict()\n",
    "    \n",
    "    return list(map(lambda label: labels_dict[label], labels))\n",
    "\n",
    "def get_rgb_values(color):\n",
    "    rgb_array = [color['red'], color['green'], color['blue']]\n",
    "    return rgb_array\n",
    "\n",
    "def get_color_label(color):\n",
    "    return color[\"label\"]\n",
    "\n",
    "def load_json():\n",
    "    path = \"../data/labeled-colors-2020.json\"\n",
    "\n",
    "    with open(path) as json_file:\n",
    "        json_str = json_file.read()\n",
    "\n",
    "    return json.loads(json_str)\n",
    "\n",
    "def prep_data(data):\n",
    "    rgb_list = list(map(get_rgb_values, data))\n",
    "    labels_as_string = list(map(get_color_label, data))\n",
    "    labels_as_int = encode_color_labels_as_int(labels_as_string)\n",
    "    \n",
    "    rgb_ndarray = np.array(rgb_list)\n",
    "    labels_ndarray = np.array(labels_as_int)\n",
    "    \n",
    "    return (rgb_ndarray, labels_ndarray)\n",
    "\n",
    "def load_data():\n",
    "    colors_array = load_json()\n",
    "    prepped_data = prep_data(colors_array)\n",
    "    return prepped_data\n",
    "\n",
    "# Plot a grid of individual colors from the dataset\n",
    "# The colors won’t be labeled\n",
    "# I tried using annotate to label the colors, but positioning the labels was tedious\n",
    "def plot_colors(one_hundred_colors):\n",
    "    plt.figure(figsize=(12, 12), facecolor=\"black\", tight_layout=True)\n",
    "    # We reshape the colors into a square, so we need to know the size of the passed argument ahead of time...\n",
    "    # That’s why it’s called one_hundred_colors\n",
    "    plt.imshow(one_hundred_colors.reshape(10, 10, 3))\n",
    "    plt.axis(\"off\")\n",
    "    plt.annotate('Test', xy=(0.9, 0.0), xycoords=\"axes fraction\")\n",
    "    \n",
    "# Plot a bunch of colors from the dataset, and their labels\n",
    "def plot_train_data(X, y, start=0, count=24):\n",
    "    max_count = min(count, X.shape[0])\n",
    "    \n",
    "    n_cols = 8\n",
    "    n_rows = math.ceil(max_count / n_cols)\n",
    "    plt.figure(figsize=(n_cols * 2, n_rows * 2))\n",
    "    for row in range(n_rows):\n",
    "        for col in range(n_cols):\n",
    "            index = n_cols * row + col\n",
    "            \n",
    "            # Stop plotting if you reached the desired count\n",
    "            if (index == max_count):\n",
    "                return\n",
    "            \n",
    "            plt.subplot(n_rows, n_cols, index + 1)\n",
    "            \n",
    "#             breakpoint()\n",
    "            data_index = start + index\n",
    "            \n",
    "            color = X[data_index, :]\n",
    "            color = color[np.newaxis, :]\n",
    "            \n",
    "            # You need this reshaping to get a 1x1 image with 3 channels\n",
    "            # Otherwise you’d get 3 pixels side by side\n",
    "            color = color.reshape(1, 1, 3)\n",
    "            \n",
    "            target_name = get_target_name(y[data_index])\n",
    "            \n",
    "            plt.imshow(color)\n",
    "            plt.axis('off')\n",
    "            plt.title(target_name, fontsize=12)\n",
    "    plt.subplots_adjust(wspace=0.2, hspace=0.5)\n",
    "    plt.show()\n",
    "    \n",
    "def shuffle(array):\n",
    "    rng = np.random.default_rng()\n",
    "    array_copy = array.copy()\n",
    "    return rng.shuffle(array_copy)\n",
    "\n",
    "def split_train_test_valid(data, test_size=0.3, valid_size=0.1):\n",
    "    total_count = data.shape[0]\n",
    "    \n",
    "    test_count = math.floor(total_count * test_size)\n",
    "    valid_count = math.floor(total_count * valid_size)\n",
    "    train_count = total_count - test_count - valid_count\n",
    "    \n",
    "    train = data[:train_count, :]\n",
    "    \n",
    "    valid_start_index = train_count\n",
    "    valid_end_index = valid_start_index + valid_count\n",
    "    valid = data[valid_start_index:valid_end_index, :]\n",
    "    \n",
    "    test_start_index = valid_end_index\n",
    "    test = data[test_start_index:, :]\n",
    "    \n",
    "    return (train, valid, test)"
   ]
  },
  {
   "cell_type": "code",
   "execution_count": 18,
   "metadata": {},
   "outputs": [
    {
     "name": "stdout",
     "output_type": "stream",
     "text": [
      "(1212, 3) (202, 3) (606, 3)\n",
      "(1212, 1) (202, 1) (606, 1)\n"
     ]
    }
   ],
   "source": [
    "X, y = load_data()\n",
    "\n",
    "np.save(\"../data/data_X\", X, allow_pickle=True)\n",
    "np.save(\"../data/data_y\", y, allow_pickle=True)\n",
    "\n",
    "X_train, X_valid, X_test = split_train_test_valid(X)\n",
    "y_train, y_valid, y_test = split_train_test_valid(y[:, np.newaxis])\n",
    "print(X_train.shape, X_valid.shape, X_test.shape)\n",
    "print(y_train.shape, y_valid.shape, y_test.shape)"
   ]
  },
  {
   "cell_type": "code",
   "execution_count": 19,
   "metadata": {},
   "outputs": [
    {
     "data": {
      "image/png": "[encoded data removed]",
      "text/plain": [
       "<Figure size 1152x432 with 24 Axes>"
      ]
     },
     "metadata": {
      "needs_background": "light"
     },
     "output_type": "display_data"
    }
   ],
   "source": [
    "plot_train_data(X_valid, y_valid, start=0)"
   ]
  },
  {
   "cell_type": "code",
   "execution_count": 20,
   "metadata": {},
   "outputs": [],
   "source": [
    "keras.backend.clear_session()\n",
    "np.random.seed(42)\n",
    "tf.random.set_seed(42)\n",
    "\n",
    "model = keras.models.Sequential([\n",
    "    keras.layers.Dense(300, activation=\"relu\", input_shape=[3]),\n",
    "    keras.layers.Dense(100, activation=\"relu\"),\n",
    "    keras.layers.Dense(9, activation=\"softmax\")\n",
    "])\n",
    "\n",
    "model.compile(loss=\"sparse_categorical_crossentropy\",\n",
    "              optimizer=\"sgd\",\n",
    "              metrics=[\"accuracy\"])"
   ]
  },
  {
   "cell_type": "code",
   "execution_count": 21,
   "metadata": {},
   "outputs": [
    {
     "name": "stdout",
     "output_type": "stream",
     "text": [
      "Model: \"sequential\"\n",
      "_________________________________________________________________\n",
      "Layer (type)                 Output Shape              Param #   \n",
      "=================================================================\n",
      "dense (Dense)                (None, 300)               1200      \n",
      "_________________________________________________________________\n",
      "dense_1 (Dense)              (None, 100)               30100     \n",
      "_________________________________________________________________\n",
      "dense_2 (Dense)              (None, 9)                 909       \n",
      "=================================================================\n",
      "Total params: 32,209\n",
      "Trainable params: 32,209\n",
      "Non-trainable params: 0\n",
      "_________________________________________________________________\n"
     ]
    }
   ],
   "source": [
    "model.summary()"
   ]
  },
  {
   "cell_type": "code",
   "execution_count": 22,
   "metadata": {},
   "outputs": [
    {
     "name": "stdout",
     "output_type": "stream",
     "text": [
      "Epoch 1/30\n",
      "38/38 [==============================] - 0s 4ms/step - loss: 10.2809 - accuracy: 0.6040 - val_loss: 0.8083 - val_accuracy: 0.6782\n",
      "Epoch 2/30\n",
      "38/38 [==============================] - 0s 1ms/step - loss: 0.7448 - accuracy: 0.7376 - val_loss: 0.7150 - val_accuracy: 0.6931\n",
      "Epoch 3/30\n",
      "38/38 [==============================] - 0s 1ms/step - loss: 0.7150 - accuracy: 0.7467 - val_loss: 0.6908 - val_accuracy: 0.7277\n",
      "Epoch 4/30\n",
      "38/38 [==============================] - 0s 1ms/step - loss: 0.6434 - accuracy: 0.7583 - val_loss: 0.6826 - val_accuracy: 0.7228\n",
      "Epoch 5/30\n",
      "38/38 [==============================] - 0s 1ms/step - loss: 0.6153 - accuracy: 0.7616 - val_loss: 0.7740 - val_accuracy: 0.6832\n",
      "Epoch 6/30\n",
      "38/38 [==============================] - 0s 1ms/step - loss: 0.5912 - accuracy: 0.7748 - val_loss: 0.5932 - val_accuracy: 0.7574\n",
      "Epoch 7/30\n",
      "38/38 [==============================] - 0s 1ms/step - loss: 0.5640 - accuracy: 0.7731 - val_loss: 0.6694 - val_accuracy: 0.7426\n",
      "Epoch 8/30\n",
      "38/38 [==============================] - 0s 1ms/step - loss: 0.5483 - accuracy: 0.7781 - val_loss: 0.5271 - val_accuracy: 0.7772\n",
      "Epoch 9/30\n",
      "38/38 [==============================] - 0s 1ms/step - loss: 0.5241 - accuracy: 0.7855 - val_loss: 0.6699 - val_accuracy: 0.7871\n",
      "Epoch 10/30\n",
      "38/38 [==============================] - 0s 1ms/step - loss: 0.5389 - accuracy: 0.7781 - val_loss: 0.6195 - val_accuracy: 0.7228\n",
      "Epoch 11/30\n",
      "38/38 [==============================] - 0s 1ms/step - loss: 0.5474 - accuracy: 0.7772 - val_loss: 0.5341 - val_accuracy: 0.7772\n",
      "Epoch 12/30\n",
      "38/38 [==============================] - 0s 1ms/step - loss: 0.5171 - accuracy: 0.7904 - val_loss: 0.8913 - val_accuracy: 0.6733\n",
      "Epoch 13/30\n",
      "38/38 [==============================] - 0s 1ms/step - loss: 0.5172 - accuracy: 0.7946 - val_loss: 0.6695 - val_accuracy: 0.7079\n",
      "Epoch 14/30\n",
      "38/38 [==============================] - 0s 1ms/step - loss: 0.4935 - accuracy: 0.8028 - val_loss: 0.7007 - val_accuracy: 0.7277\n",
      "Epoch 15/30\n",
      "38/38 [==============================] - 0s 1ms/step - loss: 0.5118 - accuracy: 0.7748 - val_loss: 0.5810 - val_accuracy: 0.7327\n",
      "Epoch 16/30\n",
      "38/38 [==============================] - 0s 1ms/step - loss: 0.5225 - accuracy: 0.7937 - val_loss: 0.7968 - val_accuracy: 0.6683\n",
      "Epoch 17/30\n",
      "38/38 [==============================] - 0s 1ms/step - loss: 0.5017 - accuracy: 0.7979 - val_loss: 0.6036 - val_accuracy: 0.7525\n",
      "Epoch 18/30\n",
      "38/38 [==============================] - 0s 1ms/step - loss: 0.5027 - accuracy: 0.7946 - val_loss: 0.5899 - val_accuracy: 0.7624\n",
      "Epoch 19/30\n",
      "38/38 [==============================] - 0s 1ms/step - loss: 0.5116 - accuracy: 0.7904 - val_loss: 0.6745 - val_accuracy: 0.7525\n",
      "Epoch 20/30\n",
      "38/38 [==============================] - 0s 1ms/step - loss: 0.4819 - accuracy: 0.8003 - val_loss: 0.7426 - val_accuracy: 0.7030\n",
      "Epoch 21/30\n",
      "38/38 [==============================] - 0s 1ms/step - loss: 0.4790 - accuracy: 0.8078 - val_loss: 0.5573 - val_accuracy: 0.7624\n",
      "Epoch 22/30\n",
      "38/38 [==============================] - 0s 1ms/step - loss: 0.4795 - accuracy: 0.8119 - val_loss: 0.6336 - val_accuracy: 0.7475\n",
      "Epoch 23/30\n",
      "38/38 [==============================] - 0s 1ms/step - loss: 0.4930 - accuracy: 0.7946 - val_loss: 0.6172 - val_accuracy: 0.7574\n",
      "Epoch 24/30\n",
      "38/38 [==============================] - 0s 1ms/step - loss: 0.4794 - accuracy: 0.8094 - val_loss: 0.6705 - val_accuracy: 0.7277\n",
      "Epoch 25/30\n",
      "38/38 [==============================] - 0s 1ms/step - loss: 0.5015 - accuracy: 0.7896 - val_loss: 0.5098 - val_accuracy: 0.7822\n",
      "Epoch 26/30\n",
      "38/38 [==============================] - 0s 1ms/step - loss: 0.4916 - accuracy: 0.8036 - val_loss: 0.5965 - val_accuracy: 0.7426\n",
      "Epoch 27/30\n",
      "38/38 [==============================] - 0s 1ms/step - loss: 0.4609 - accuracy: 0.8036 - val_loss: 0.6831 - val_accuracy: 0.7673\n",
      "Epoch 28/30\n",
      "38/38 [==============================] - 0s 1ms/step - loss: 0.4599 - accuracy: 0.8053 - val_loss: 0.5822 - val_accuracy: 0.7426\n",
      "Epoch 29/30\n",
      "38/38 [==============================] - 0s 1ms/step - loss: 0.4637 - accuracy: 0.7962 - val_loss: 0.5931 - val_accuracy: 0.7624\n",
      "Epoch 30/30\n",
      "38/38 [==============================] - 0s 1ms/step - loss: 0.4709 - accuracy: 0.8003 - val_loss: 0.5410 - val_accuracy: 0.7871\n"
     ]
    }
   ],
   "source": [
    "history = model.fit(X_train, y_train, epochs=30,\n",
    "                    validation_data=(X_valid, y_valid))"
   ]
  },
  {
   "cell_type": "code",
   "execution_count": 23,
   "metadata": {},
   "outputs": [
    {
     "name": "stdout",
     "output_type": "stream",
     "text": [
      "19/19 [==============================] - 0s 720us/step - loss: 0.5543 - accuracy: 0.7657\n"
     ]
    },
    {
     "data": {
      "text/plain": [
       "[0.5542805790901184, 0.7656765580177307]"
      ]
     },
     "execution_count": 23,
     "metadata": {},
     "output_type": "execute_result"
    }
   ],
   "source": [
    "# Check loss and accuracy on test dataset\n",
    "model.evaluate(X_test, y_test)"
   ]
  },
  {
   "cell_type": "code",
   "execution_count": 24,
   "metadata": {},
   "outputs": [
    {
     "data": {
      "image/png": "[encoded data removed]",
      "text/plain": [
       "<Figure size 576x360 with 1 Axes>"
      ]
     },
     "metadata": {
      "needs_background": "light"
     },
     "output_type": "display_data"
    }
   ],
   "source": [
    "pd.DataFrame(history.history).plot(figsize=(8, 5))\n",
    "plt.grid(True)\n",
    "plt.gca().set_ylim(0, 1)\n",
    "plt.show()"
   ]
  },
  {
   "cell_type": "code",
   "execution_count": 25,
   "metadata": {},
   "outputs": [
    {
     "data": {
      "text/plain": [
       "array([[0.  , 0.  , 0.01, 0.  , 0.  , 0.04, 0.95, 0.  , 0.  ],\n",
       "       [0.  , 0.  , 1.  , 0.  , 0.  , 0.  , 0.  , 0.  , 0.  ],\n",
       "       [0.  , 0.  , 0.  , 0.  , 0.  , 0.42, 0.58, 0.  , 0.  ],\n",
       "       [0.98, 0.  , 0.  , 0.  , 0.  , 0.02, 0.  , 0.  , 0.  ],\n",
       "       [0.03, 0.  , 0.  , 0.64, 0.  , 0.  , 0.  , 0.33, 0.  ]],\n",
       "      dtype=float32)"
      ]
     },
     "execution_count": 25,
     "metadata": {},
     "output_type": "execute_result"
    }
   ],
   "source": [
    "# Each prediction is an array of 9 probabilities, which all add up to 1\n",
    "X_new = X_test[:5]\n",
    "y_proba = model.predict(X_new)\n",
    "y_proba.round(2)"
   ]
  },
  {
   "cell_type": "code",
   "execution_count": 26,
   "metadata": {
    "scrolled": true
   },
   "outputs": [
    {
     "data": {
      "image/png": "[encoded data removed]",
      "text/plain": [
       "<Figure size 1152x144 with 5 Axes>"
      ]
     },
     "metadata": {
      "needs_background": "light"
     },
     "output_type": "display_data"
    }
   ],
   "source": [
    "y_indexes = np.argmax(y_proba, axis=1)\n",
    "plot_train_data(X_new, y_indexes, start=0, count=30)"
   ]
  },
  {
   "cell_type": "code",
   "execution_count": 27,
   "metadata": {},
   "outputs": [],
   "source": [
    "# Save model\n",
    "# You can ignore the H5pyDeprecationWarning if you get it\n",
    "def save_model():\n",
    "    tfjs.converters.save_keras_model(model, \"../model\")"
   ]
  },
  {
   "cell_type": "code",
   "execution_count": 79,
   "metadata": {},
   "outputs": [],
   "source": [
    "def predict_color(rgb_color):\n",
    "    red, green, blue = rgb_color\n",
    "    color = np.array([[red, green, blue]])\n",
    "    probas = model.predict(color)\n",
    "    max_proba_index = np.argmax(probas, axis=1)\n",
    "    label = target_names[max_proba_index][0]\n",
    "    return { \"probas\": probas, \"label\": label }\n",
    "\n",
    "def plot_prediction(rgb_color):\n",
    "    label = predict_color(rgb_color)[\"label\"]\n",
    "    data = np.array([rgb_color]).reshape(1, 1, 3)\n",
    "    plt.imshow(data)\n",
    "    plt.axis('off')\n",
    "    plt.title(label, fontsize=12)\n",
    "    plt.show()"
   ]
  },
  {
   "cell_type": "code",
   "execution_count": 80,
   "metadata": {},
   "outputs": [
    {
     "data": {
      "image/png": "[encoded data removed]",
      "text/plain": [
       "<Figure size 432x288 with 1 Axes>"
      ]
     },
     "metadata": {
      "needs_background": "light"
     },
     "output_type": "display_data"
    }
   ],
   "source": [
    "plot_prediction((0, 0, 255))"
   ]
  },
  {
   "cell_type": "code",
   "execution_count": 81,
   "metadata": {},
   "outputs": [
    {
     "data": {
      "image/png": "[encoded data removed]",
      "text/plain": [
       "<Figure size 432x288 with 1 Axes>"
      ]
     },
     "metadata": {
      "needs_background": "light"
     },
     "output_type": "display_data"
    }
   ],
   "source": [
    "plot_prediction((255, 228, 0))"
   ]
  },
  {
   "cell_type": "code",
   "execution_count": null,
   "metadata": {},
   "outputs": [],
   "source": []
  }
 ],
 "metadata": {
  "kernelspec": {
   "display_name": "color-classifier",
   "language": "python",
   "name": "color-classifier"
  },
  "language_info": {
   "codemirror_mode": {
    "name": "ipython",
    "version": 3
   },
   "file_extension": ".py",
   "mimetype": "text/x-python",
   "name": "python",
   "nbconvert_exporter": "python",
   "pygments_lexer": "ipython3",
   "version": "3.8.6"
  }
 },
 "nbformat": 4,
 "nbformat_minor": 4
}
